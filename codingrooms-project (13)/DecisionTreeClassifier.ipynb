{
 "cells": [
  {
   "cell_type": "code",
   "execution_count": 1,
   "metadata": {
    "execution": {
     "iopub.execute_input": "2023-12-14T17:07:56.213642Z",
     "iopub.status.busy": "2023-12-14T17:07:56.213042Z",
     "iopub.status.idle": "2023-12-14T17:07:57.096780Z",
     "shell.execute_reply": "2023-12-14T17:07:57.096442Z"
    }
   },
   "outputs": [],
   "source": [
    "# Import needed packages and functions\n",
    "import pandas as pd\n",
    "import matplotlib.pyplot as plt\n",
    "import seaborn as sns\n",
    "import numpy as np\n",
    "\n",
    "from sklearn.model_selection import train_test_split\n",
    "from sklearn.tree import DecisionTreeClassifier, plot_tree, export_graphviz\n",
    "from mlxtend.plotting import plot_decision_regions\n",
    "from sklearn.metrics import confusion_matrix, ConfusionMatrixDisplay"
   ]
  },
  {
   "cell_type": "code",
   "execution_count": 2,
   "metadata": {
    "execution": {
     "iopub.execute_input": "2023-12-14T17:07:57.098818Z",
     "iopub.status.busy": "2023-12-14T17:07:57.098554Z",
     "iopub.status.idle": "2023-12-14T17:07:57.771200Z",
     "shell.execute_reply": "2023-12-14T17:07:57.770419Z"
    }
   },
   "outputs": [
    {
     "data": {
      "text/plain": [
       "(1338, 43)"
      ]
     },
     "execution_count": 2,
     "metadata": {},
     "output_type": "execute_result"
    }
   ],
   "source": [
    "# Import the data\n",
    "Coffee = pd.read_csv('coffee.csv')\n",
    "\n",
    "# Filter out the coffee that is missing scores\n",
    "Coffee = Coffee[Coffee['total_cup_points']!=0]\n",
    "Coffee.shape"
   ]
  },
  {
   "cell_type": "code",
   "execution_count": 3,
   "metadata": {
    "execution": {
     "iopub.execute_input": "2023-12-14T17:07:57.774430Z",
     "iopub.status.busy": "2023-12-14T17:07:57.774183Z",
     "iopub.status.idle": "2023-12-14T17:07:57.807012Z",
     "shell.execute_reply": "2023-12-14T17:07:57.806636Z"
    }
   },
   "outputs": [
    {
     "data": {
      "text/html": [
       "<div>\n",
       "<style scoped>\n",
       "    .dataframe tbody tr th:only-of-type {\n",
       "        vertical-align: middle;\n",
       "    }\n",
       "\n",
       "    .dataframe tbody tr th {\n",
       "        vertical-align: top;\n",
       "    }\n",
       "\n",
       "    .dataframe thead th {\n",
       "        text-align: right;\n",
       "    }\n",
       "</style>\n",
       "<table border=\"1\" class=\"dataframe\">\n",
       "  <thead>\n",
       "    <tr style=\"text-align: right;\">\n",
       "      <th></th>\n",
       "      <th>total_cup_points</th>\n",
       "      <th>number_of_bags</th>\n",
       "      <th>aroma</th>\n",
       "      <th>flavor</th>\n",
       "      <th>aftertaste</th>\n",
       "      <th>acidity</th>\n",
       "      <th>body</th>\n",
       "      <th>balance</th>\n",
       "      <th>uniformity</th>\n",
       "      <th>clean_cup</th>\n",
       "      <th>sweetness</th>\n",
       "      <th>cupper_points</th>\n",
       "      <th>moisture</th>\n",
       "      <th>category_one_defects</th>\n",
       "      <th>quakers</th>\n",
       "      <th>category_two_defects</th>\n",
       "      <th>altitude_low_meters</th>\n",
       "      <th>altitude_high_meters</th>\n",
       "      <th>altitude_mean_meters</th>\n",
       "    </tr>\n",
       "  </thead>\n",
       "  <tbody>\n",
       "    <tr>\n",
       "      <th>count</th>\n",
       "      <td>1338.000000</td>\n",
       "      <td>1338.000000</td>\n",
       "      <td>1338.000000</td>\n",
       "      <td>1338.000000</td>\n",
       "      <td>1338.000000</td>\n",
       "      <td>1338.000000</td>\n",
       "      <td>1338.000000</td>\n",
       "      <td>1338.000000</td>\n",
       "      <td>1338.000000</td>\n",
       "      <td>1338.000000</td>\n",
       "      <td>1338.000000</td>\n",
       "      <td>1338.000000</td>\n",
       "      <td>1338.000000</td>\n",
       "      <td>1338.000000</td>\n",
       "      <td>1337.000000</td>\n",
       "      <td>1338.000000</td>\n",
       "      <td>1108.000000</td>\n",
       "      <td>1108.000000</td>\n",
       "      <td>1108.000000</td>\n",
       "    </tr>\n",
       "    <tr>\n",
       "      <th>mean</th>\n",
       "      <td>82.151203</td>\n",
       "      <td>154.092676</td>\n",
       "      <td>7.572362</td>\n",
       "      <td>7.526046</td>\n",
       "      <td>7.406614</td>\n",
       "      <td>7.541338</td>\n",
       "      <td>7.523117</td>\n",
       "      <td>7.523632</td>\n",
       "      <td>9.842227</td>\n",
       "      <td>9.842459</td>\n",
       "      <td>9.864058</td>\n",
       "      <td>7.508984</td>\n",
       "      <td>0.088356</td>\n",
       "      <td>0.479821</td>\n",
       "      <td>0.173523</td>\n",
       "      <td>3.557549</td>\n",
       "      <td>1751.029843</td>\n",
       "      <td>1799.708197</td>\n",
       "      <td>1775.369020</td>\n",
       "    </tr>\n",
       "    <tr>\n",
       "      <th>std</th>\n",
       "      <td>2.686862</td>\n",
       "      <td>129.993747</td>\n",
       "      <td>0.315916</td>\n",
       "      <td>0.341382</td>\n",
       "      <td>0.350304</td>\n",
       "      <td>0.319173</td>\n",
       "      <td>0.307815</td>\n",
       "      <td>0.353630</td>\n",
       "      <td>0.485183</td>\n",
       "      <td>0.715296</td>\n",
       "      <td>0.554207</td>\n",
       "      <td>0.426843</td>\n",
       "      <td>0.048298</td>\n",
       "      <td>2.550603</td>\n",
       "      <td>0.832419</td>\n",
       "      <td>5.314357</td>\n",
       "      <td>8673.348986</td>\n",
       "      <td>8672.712024</td>\n",
       "      <td>8672.533233</td>\n",
       "    </tr>\n",
       "    <tr>\n",
       "      <th>min</th>\n",
       "      <td>59.830000</td>\n",
       "      <td>0.000000</td>\n",
       "      <td>5.080000</td>\n",
       "      <td>6.080000</td>\n",
       "      <td>6.170000</td>\n",
       "      <td>5.250000</td>\n",
       "      <td>5.080000</td>\n",
       "      <td>5.250000</td>\n",
       "      <td>6.000000</td>\n",
       "      <td>0.000000</td>\n",
       "      <td>1.330000</td>\n",
       "      <td>5.170000</td>\n",
       "      <td>0.000000</td>\n",
       "      <td>0.000000</td>\n",
       "      <td>0.000000</td>\n",
       "      <td>0.000000</td>\n",
       "      <td>1.000000</td>\n",
       "      <td>1.000000</td>\n",
       "      <td>1.000000</td>\n",
       "    </tr>\n",
       "    <tr>\n",
       "      <th>25%</th>\n",
       "      <td>81.102500</td>\n",
       "      <td>14.000000</td>\n",
       "      <td>7.420000</td>\n",
       "      <td>7.330000</td>\n",
       "      <td>7.250000</td>\n",
       "      <td>7.330000</td>\n",
       "      <td>7.330000</td>\n",
       "      <td>7.330000</td>\n",
       "      <td>10.000000</td>\n",
       "      <td>10.000000</td>\n",
       "      <td>10.000000</td>\n",
       "      <td>7.250000</td>\n",
       "      <td>0.090000</td>\n",
       "      <td>0.000000</td>\n",
       "      <td>0.000000</td>\n",
       "      <td>0.000000</td>\n",
       "      <td>1100.000000</td>\n",
       "      <td>1100.000000</td>\n",
       "      <td>1100.000000</td>\n",
       "    </tr>\n",
       "    <tr>\n",
       "      <th>50%</th>\n",
       "      <td>82.500000</td>\n",
       "      <td>172.500000</td>\n",
       "      <td>7.580000</td>\n",
       "      <td>7.580000</td>\n",
       "      <td>7.420000</td>\n",
       "      <td>7.580000</td>\n",
       "      <td>7.500000</td>\n",
       "      <td>7.500000</td>\n",
       "      <td>10.000000</td>\n",
       "      <td>10.000000</td>\n",
       "      <td>10.000000</td>\n",
       "      <td>7.500000</td>\n",
       "      <td>0.110000</td>\n",
       "      <td>0.000000</td>\n",
       "      <td>0.000000</td>\n",
       "      <td>2.000000</td>\n",
       "      <td>1310.640000</td>\n",
       "      <td>1350.000000</td>\n",
       "      <td>1310.640000</td>\n",
       "    </tr>\n",
       "    <tr>\n",
       "      <th>75%</th>\n",
       "      <td>83.670000</td>\n",
       "      <td>275.000000</td>\n",
       "      <td>7.750000</td>\n",
       "      <td>7.750000</td>\n",
       "      <td>7.580000</td>\n",
       "      <td>7.750000</td>\n",
       "      <td>7.670000</td>\n",
       "      <td>7.750000</td>\n",
       "      <td>10.000000</td>\n",
       "      <td>10.000000</td>\n",
       "      <td>10.000000</td>\n",
       "      <td>7.750000</td>\n",
       "      <td>0.120000</td>\n",
       "      <td>0.000000</td>\n",
       "      <td>0.000000</td>\n",
       "      <td>4.000000</td>\n",
       "      <td>1600.000000</td>\n",
       "      <td>1650.000000</td>\n",
       "      <td>1600.000000</td>\n",
       "    </tr>\n",
       "    <tr>\n",
       "      <th>max</th>\n",
       "      <td>90.580000</td>\n",
       "      <td>1062.000000</td>\n",
       "      <td>8.750000</td>\n",
       "      <td>8.830000</td>\n",
       "      <td>8.670000</td>\n",
       "      <td>8.750000</td>\n",
       "      <td>8.580000</td>\n",
       "      <td>8.750000</td>\n",
       "      <td>10.000000</td>\n",
       "      <td>10.000000</td>\n",
       "      <td>10.000000</td>\n",
       "      <td>10.000000</td>\n",
       "      <td>0.280000</td>\n",
       "      <td>63.000000</td>\n",
       "      <td>11.000000</td>\n",
       "      <td>55.000000</td>\n",
       "      <td>190164.000000</td>\n",
       "      <td>190164.000000</td>\n",
       "      <td>190164.000000</td>\n",
       "    </tr>\n",
       "  </tbody>\n",
       "</table>\n",
       "</div>"
      ],
      "text/plain": [
       "       total_cup_points  number_of_bags        aroma       flavor  \\\n",
       "count       1338.000000     1338.000000  1338.000000  1338.000000   \n",
       "mean          82.151203      154.092676     7.572362     7.526046   \n",
       "std            2.686862      129.993747     0.315916     0.341382   \n",
       "min           59.830000        0.000000     5.080000     6.080000   \n",
       "25%           81.102500       14.000000     7.420000     7.330000   \n",
       "50%           82.500000      172.500000     7.580000     7.580000   \n",
       "75%           83.670000      275.000000     7.750000     7.750000   \n",
       "max           90.580000     1062.000000     8.750000     8.830000   \n",
       "\n",
       "        aftertaste      acidity         body      balance   uniformity  \\\n",
       "count  1338.000000  1338.000000  1338.000000  1338.000000  1338.000000   \n",
       "mean      7.406614     7.541338     7.523117     7.523632     9.842227   \n",
       "std       0.350304     0.319173     0.307815     0.353630     0.485183   \n",
       "min       6.170000     5.250000     5.080000     5.250000     6.000000   \n",
       "25%       7.250000     7.330000     7.330000     7.330000    10.000000   \n",
       "50%       7.420000     7.580000     7.500000     7.500000    10.000000   \n",
       "75%       7.580000     7.750000     7.670000     7.750000    10.000000   \n",
       "max       8.670000     8.750000     8.580000     8.750000    10.000000   \n",
       "\n",
       "         clean_cup    sweetness  cupper_points     moisture  \\\n",
       "count  1338.000000  1338.000000    1338.000000  1338.000000   \n",
       "mean      9.842459     9.864058       7.508984     0.088356   \n",
       "std       0.715296     0.554207       0.426843     0.048298   \n",
       "min       0.000000     1.330000       5.170000     0.000000   \n",
       "25%      10.000000    10.000000       7.250000     0.090000   \n",
       "50%      10.000000    10.000000       7.500000     0.110000   \n",
       "75%      10.000000    10.000000       7.750000     0.120000   \n",
       "max      10.000000    10.000000      10.000000     0.280000   \n",
       "\n",
       "       category_one_defects      quakers  category_two_defects  \\\n",
       "count           1338.000000  1337.000000           1338.000000   \n",
       "mean               0.479821     0.173523              3.557549   \n",
       "std                2.550603     0.832419              5.314357   \n",
       "min                0.000000     0.000000              0.000000   \n",
       "25%                0.000000     0.000000              0.000000   \n",
       "50%                0.000000     0.000000              2.000000   \n",
       "75%                0.000000     0.000000              4.000000   \n",
       "max               63.000000    11.000000             55.000000   \n",
       "\n",
       "       altitude_low_meters  altitude_high_meters  altitude_mean_meters  \n",
       "count          1108.000000           1108.000000           1108.000000  \n",
       "mean           1751.029843           1799.708197           1775.369020  \n",
       "std            8673.348986           8672.712024           8672.533233  \n",
       "min               1.000000              1.000000              1.000000  \n",
       "25%            1100.000000           1100.000000           1100.000000  \n",
       "50%            1310.640000           1350.000000           1310.640000  \n",
       "75%            1600.000000           1650.000000           1600.000000  \n",
       "max          190164.000000         190164.000000         190164.000000  "
      ]
     },
     "execution_count": 3,
     "metadata": {},
     "output_type": "execute_result"
    }
   ],
   "source": [
    "# Summarize the numerical features\n",
    "Coffee.describe()"
   ]
  },
  {
   "cell_type": "code",
   "execution_count": 4,
   "metadata": {
    "execution": {
     "iopub.execute_input": "2023-12-14T17:07:57.808899Z",
     "iopub.status.busy": "2023-12-14T17:07:57.808763Z",
     "iopub.status.idle": "2023-12-14T17:07:57.827988Z",
     "shell.execute_reply": "2023-12-14T17:07:57.827710Z"
    }
   },
   "outputs": [
    {
     "data": {
      "text/html": [
       "<div>\n",
       "<style scoped>\n",
       "    .dataframe tbody tr th:only-of-type {\n",
       "        vertical-align: middle;\n",
       "    }\n",
       "\n",
       "    .dataframe tbody tr th {\n",
       "        vertical-align: top;\n",
       "    }\n",
       "\n",
       "    .dataframe thead th {\n",
       "        text-align: right;\n",
       "    }\n",
       "</style>\n",
       "<table border=\"1\" class=\"dataframe\">\n",
       "  <thead>\n",
       "    <tr style=\"text-align: right;\">\n",
       "      <th></th>\n",
       "      <th>species</th>\n",
       "      <th>owner</th>\n",
       "      <th>country_of_origin</th>\n",
       "      <th>farm_name</th>\n",
       "      <th>lot_number</th>\n",
       "      <th>mill</th>\n",
       "      <th>ico_number</th>\n",
       "      <th>company</th>\n",
       "      <th>altitude</th>\n",
       "      <th>region</th>\n",
       "      <th>...</th>\n",
       "      <th>grading_date</th>\n",
       "      <th>owner_1</th>\n",
       "      <th>variety</th>\n",
       "      <th>processing_method</th>\n",
       "      <th>color</th>\n",
       "      <th>expiration</th>\n",
       "      <th>certification_body</th>\n",
       "      <th>certification_address</th>\n",
       "      <th>certification_contact</th>\n",
       "      <th>unit_of_measurement</th>\n",
       "    </tr>\n",
       "  </thead>\n",
       "  <tbody>\n",
       "    <tr>\n",
       "      <th>count</th>\n",
       "      <td>1338</td>\n",
       "      <td>1331</td>\n",
       "      <td>1337</td>\n",
       "      <td>979</td>\n",
       "      <td>275</td>\n",
       "      <td>1020</td>\n",
       "      <td>1181</td>\n",
       "      <td>1129</td>\n",
       "      <td>1112</td>\n",
       "      <td>1279</td>\n",
       "      <td>...</td>\n",
       "      <td>1338</td>\n",
       "      <td>1331</td>\n",
       "      <td>1112</td>\n",
       "      <td>1169</td>\n",
       "      <td>1120</td>\n",
       "      <td>1338</td>\n",
       "      <td>1338</td>\n",
       "      <td>1338</td>\n",
       "      <td>1338</td>\n",
       "      <td>1338</td>\n",
       "    </tr>\n",
       "    <tr>\n",
       "      <th>unique</th>\n",
       "      <td>2</td>\n",
       "      <td>315</td>\n",
       "      <td>36</td>\n",
       "      <td>571</td>\n",
       "      <td>227</td>\n",
       "      <td>459</td>\n",
       "      <td>846</td>\n",
       "      <td>281</td>\n",
       "      <td>396</td>\n",
       "      <td>356</td>\n",
       "      <td>...</td>\n",
       "      <td>567</td>\n",
       "      <td>319</td>\n",
       "      <td>29</td>\n",
       "      <td>5</td>\n",
       "      <td>4</td>\n",
       "      <td>566</td>\n",
       "      <td>26</td>\n",
       "      <td>32</td>\n",
       "      <td>29</td>\n",
       "      <td>2</td>\n",
       "    </tr>\n",
       "    <tr>\n",
       "      <th>top</th>\n",
       "      <td>Arabica</td>\n",
       "      <td>juan luis alvarado romero</td>\n",
       "      <td>Mexico</td>\n",
       "      <td>various</td>\n",
       "      <td>1</td>\n",
       "      <td>beneficio ixchel</td>\n",
       "      <td>0</td>\n",
       "      <td>unex guatemala, s.a.</td>\n",
       "      <td>1100</td>\n",
       "      <td>huila</td>\n",
       "      <td>...</td>\n",
       "      <td>July 11th, 2012</td>\n",
       "      <td>Juan Luis Alvarado Romero</td>\n",
       "      <td>Caturra</td>\n",
       "      <td>Washed / Wet</td>\n",
       "      <td>Green</td>\n",
       "      <td>July 11th, 2013</td>\n",
       "      <td>Specialty Coffee Association</td>\n",
       "      <td>36d0d00a3724338ba7937c52a378d085f2172daa</td>\n",
       "      <td>0878a7d4b9d35ddbf0fe2ce69a2062cceb45a660</td>\n",
       "      <td>m</td>\n",
       "    </tr>\n",
       "    <tr>\n",
       "      <th>freq</th>\n",
       "      <td>1310</td>\n",
       "      <td>155</td>\n",
       "      <td>236</td>\n",
       "      <td>47</td>\n",
       "      <td>18</td>\n",
       "      <td>90</td>\n",
       "      <td>77</td>\n",
       "      <td>86</td>\n",
       "      <td>43</td>\n",
       "      <td>112</td>\n",
       "      <td>...</td>\n",
       "      <td>25</td>\n",
       "      <td>155</td>\n",
       "      <td>255</td>\n",
       "      <td>815</td>\n",
       "      <td>869</td>\n",
       "      <td>25</td>\n",
       "      <td>313</td>\n",
       "      <td>293</td>\n",
       "      <td>295</td>\n",
       "      <td>1156</td>\n",
       "    </tr>\n",
       "  </tbody>\n",
       "</table>\n",
       "<p>4 rows × 24 columns</p>\n",
       "</div>"
      ],
      "text/plain": [
       "        species                      owner country_of_origin farm_name  \\\n",
       "count      1338                       1331              1337       979   \n",
       "unique        2                        315                36       571   \n",
       "top     Arabica  juan luis alvarado romero            Mexico   various   \n",
       "freq       1310                        155               236        47   \n",
       "\n",
       "       lot_number              mill ico_number               company altitude  \\\n",
       "count         275              1020       1181                  1129     1112   \n",
       "unique        227               459        846                   281      396   \n",
       "top             1  beneficio ixchel          0  unex guatemala, s.a.     1100   \n",
       "freq           18                90         77                    86       43   \n",
       "\n",
       "       region  ...     grading_date                    owner_1  variety  \\\n",
       "count    1279  ...             1338                       1331     1112   \n",
       "unique    356  ...              567                        319       29   \n",
       "top     huila  ...  July 11th, 2012  Juan Luis Alvarado Romero  Caturra   \n",
       "freq      112  ...               25                        155      255   \n",
       "\n",
       "       processing_method  color       expiration  \\\n",
       "count               1169   1120             1338   \n",
       "unique                 5      4              566   \n",
       "top         Washed / Wet  Green  July 11th, 2013   \n",
       "freq                 815    869               25   \n",
       "\n",
       "                  certification_body  \\\n",
       "count                           1338   \n",
       "unique                            26   \n",
       "top     Specialty Coffee Association   \n",
       "freq                             313   \n",
       "\n",
       "                           certification_address  \\\n",
       "count                                       1338   \n",
       "unique                                        32   \n",
       "top     36d0d00a3724338ba7937c52a378d085f2172daa   \n",
       "freq                                         293   \n",
       "\n",
       "                           certification_contact unit_of_measurement  \n",
       "count                                       1338                1338  \n",
       "unique                                        29                   2  \n",
       "top     0878a7d4b9d35ddbf0fe2ce69a2062cceb45a660                   m  \n",
       "freq                                         295                1156  \n",
       "\n",
       "[4 rows x 24 columns]"
      ]
     },
     "execution_count": 4,
     "metadata": {},
     "output_type": "execute_result"
    }
   ],
   "source": [
    "# Summarize the categorical features\n",
    "Coffee.describe(include=['O'])"
   ]
  },
  {
   "cell_type": "code",
   "execution_count": 5,
   "metadata": {
    "execution": {
     "iopub.execute_input": "2023-12-14T17:07:57.829527Z",
     "iopub.status.busy": "2023-12-14T17:07:57.829441Z",
     "iopub.status.idle": "2023-12-14T17:07:57.832917Z",
     "shell.execute_reply": "2023-12-14T17:07:57.832648Z"
    }
   },
   "outputs": [],
   "source": [
    "# Select features\n",
    "X = Coffee[['uniformity', 'sweetness']]\n",
    "y = pd.get_dummies(Coffee['species'], drop_first=True) \n",
    "# Dummy variables are not required for DecisionTreeClassifier but are required for \n",
    "# plot_decision_boundary\n",
    "\n",
    "# Create training and testing data\n",
    "X_train, X_test, y_train, y_test = train_test_split(X, y, test_size=0.3, random_state=123)\n"
   ]
  },
  {
   "cell_type": "code",
   "execution_count": 6,
   "metadata": {
    "execution": {
     "iopub.execute_input": "2023-12-14T17:07:57.834261Z",
     "iopub.status.busy": "2023-12-14T17:07:57.834179Z",
     "iopub.status.idle": "2023-12-14T17:07:57.921670Z",
     "shell.execute_reply": "2023-12-14T17:07:57.921390Z"
    }
   },
   "outputs": [
    {
     "data": {
      "image/png": "[encoded data removed]",
      "text/plain": [
       "<Figure size 640x480 with 1 Axes>"
      ]
     },
     "metadata": {},
     "output_type": "display_data"
    }
   ],
   "source": [
    "# Scatter plot of the input features colored by species of coffee\n",
    "p1 = sns.scatterplot(data=X_train, x='uniformity', y='sweetness', hue=y_train['Robusta'], alpha=0.5)\n",
    "p1.set(xlabel='Uniformity', ylabel='Sweetness')\n",
    "p1.get_legend().set_title('Species')"
   ]
  },
  {
   "cell_type": "code",
   "execution_count": 7,
   "metadata": {
    "execution": {
     "iopub.execute_input": "2023-12-14T17:07:57.923384Z",
     "iopub.status.busy": "2023-12-14T17:07:57.923267Z",
     "iopub.status.idle": "2023-12-14T17:07:57.927233Z",
     "shell.execute_reply": "2023-12-14T17:07:57.926969Z"
    }
   },
   "outputs": [
    {
     "data": {
      "text/html": [
       "<style>#sk-container-id-1 {color: black;background-color: white;}#sk-container-id-1 pre{padding: 0;}#sk-container-id-1 div.sk-toggleable {background-color: white;}#sk-container-id-1 label.sk-toggleable__label {cursor: pointer;display: block;width: 100%;margin-bottom: 0;padding: 0.3em;box-sizing: border-box;text-align: center;}#sk-container-id-1 label.sk-toggleable__label-arrow:before {content: \"▸\";float: left;margin-right: 0.25em;color: #696969;}#sk-container-id-1 label.sk-toggleable__label-arrow:hover:before {color: black;}#sk-container-id-1 div.sk-estimator:hover label.sk-toggleable__label-arrow:before {color: black;}#sk-container-id-1 div.sk-toggleable__content {max-height: 0;max-width: 0;overflow: hidden;text-align: left;background-color: #f0f8ff;}#sk-container-id-1 div.sk-toggleable__content pre {margin: 0.2em;color: black;border-radius: 0.25em;background-color: #f0f8ff;}#sk-container-id-1 input.sk-toggleable__control:checked~div.sk-toggleable__content {max-height: 200px;max-width: 100%;overflow: auto;}#sk-container-id-1 input.sk-toggleable__control:checked~label.sk-toggleable__label-arrow:before {content: \"▾\";}#sk-container-id-1 div.sk-estimator input.sk-toggleable__control:checked~label.sk-toggleable__label {background-color: #d4ebff;}#sk-container-id-1 div.sk-label input.sk-toggleable__control:checked~label.sk-toggleable__label {background-color: #d4ebff;}#sk-container-id-1 input.sk-hidden--visually {border: 0;clip: rect(1px 1px 1px 1px);clip: rect(1px, 1px, 1px, 1px);height: 1px;margin: -1px;overflow: hidden;padding: 0;position: absolute;width: 1px;}#sk-container-id-1 div.sk-estimator {font-family: monospace;background-color: #f0f8ff;border: 1px dotted black;border-radius: 0.25em;box-sizing: border-box;margin-bottom: 0.5em;}#sk-container-id-1 div.sk-estimator:hover {background-color: #d4ebff;}#sk-container-id-1 div.sk-parallel-item::after {content: \"\";width: 100%;border-bottom: 1px solid gray;flex-grow: 1;}#sk-container-id-1 div.sk-label:hover label.sk-toggleable__label {background-color: #d4ebff;}#sk-container-id-1 div.sk-serial::before {content: \"\";position: absolute;border-left: 1px solid gray;box-sizing: border-box;top: 0;bottom: 0;left: 50%;z-index: 0;}#sk-container-id-1 div.sk-serial {display: flex;flex-direction: column;align-items: center;background-color: white;padding-right: 0.2em;padding-left: 0.2em;position: relative;}#sk-container-id-1 div.sk-item {position: relative;z-index: 1;}#sk-container-id-1 div.sk-parallel {display: flex;align-items: stretch;justify-content: center;background-color: white;position: relative;}#sk-container-id-1 div.sk-item::before, #sk-container-id-1 div.sk-parallel-item::before {content: \"\";position: absolute;border-left: 1px solid gray;box-sizing: border-box;top: 0;bottom: 0;left: 50%;z-index: -1;}#sk-container-id-1 div.sk-parallel-item {display: flex;flex-direction: column;z-index: 1;position: relative;background-color: white;}#sk-container-id-1 div.sk-parallel-item:first-child::after {align-self: flex-end;width: 50%;}#sk-container-id-1 div.sk-parallel-item:last-child::after {align-self: flex-start;width: 50%;}#sk-container-id-1 div.sk-parallel-item:only-child::after {width: 0;}#sk-container-id-1 div.sk-dashed-wrapped {border: 1px dashed gray;margin: 0 0.4em 0.5em 0.4em;box-sizing: border-box;padding-bottom: 0.4em;background-color: white;}#sk-container-id-1 div.sk-label label {font-family: monospace;font-weight: bold;display: inline-block;line-height: 1.2em;}#sk-container-id-1 div.sk-label-container {text-align: center;}#sk-container-id-1 div.sk-container {/* jupyter's `normalize.less` sets `[hidden] { display: none; }` but bootstrap.min.css set `[hidden] { display: none !important; }` so we also need the `!important` here to be able to override the default hidden behavior on the sphinx rendered scikit-learn.org. See: https://github.com/scikit-learn/scikit-learn/issues/21755 */display: inline-block !important;position: relative;}#sk-container-id-1 div.sk-text-repr-fallback {display: none;}</style><div id=\"sk-container-id-1\" class=\"sk-top-container\"><div class=\"sk-text-repr-fallback\"><pre>DecisionTreeClassifier()</pre><b>In a Jupyter environment, please rerun this cell to show the HTML representation or trust the notebook. <br />On GitHub, the HTML representation is unable to render, please try loading this page with nbviewer.org.</b></div><div class=\"sk-container\" hidden><div class=\"sk-item\"><div class=\"sk-estimator sk-toggleable\"><input class=\"sk-toggleable__control sk-hidden--visually\" id=\"sk-estimator-id-1\" type=\"checkbox\" checked><label for=\"sk-estimator-id-1\" class=\"sk-toggleable__label sk-toggleable__label-arrow\">DecisionTreeClassifier</label><div class=\"sk-toggleable__content\"><pre>DecisionTreeClassifier()</pre></div></div></div></div></div>"
      ],
      "text/plain": [
       "DecisionTreeClassifier()"
      ]
     },
     "execution_count": 7,
     "metadata": {},
     "output_type": "execute_result"
    }
   ],
   "source": [
    "# Initialize the tree and fit the tree\n",
    "DTC = DecisionTreeClassifier()\n",
    "DTC.fit(X_train,y_train)"
   ]
  },
  {
   "cell_type": "code",
   "execution_count": 8,
   "metadata": {
    "execution": {
     "iopub.execute_input": "2023-12-14T17:07:57.928745Z",
     "iopub.status.busy": "2023-12-14T17:07:57.928661Z",
     "iopub.status.idle": "2023-12-14T17:07:58.072566Z",
     "shell.execute_reply": "2023-12-14T17:07:58.072236Z"
    }
   },
   "outputs": [
    {
     "data": {
      "text/plain": [
       "[Text(0.625, 0.9, 'sweetness <= 8.545\\ngini = 0.036\\nsamples = 936\\nvalue = [919, 17]'),\n",
       " Text(0.5, 0.7, 'uniformity <= 9.665\\ngini = 0.491\\nsamples = 30\\nvalue = [13, 17]'),\n",
       " Text(0.25, 0.5, 'uniformity <= 8.665\\ngini = 0.153\\nsamples = 12\\nvalue = [11, 1]'),\n",
       " Text(0.125, 0.3, 'gini = 0.0\\nsamples = 8\\nvalue = [8, 0]'),\n",
       " Text(0.375, 0.3, 'sweetness <= 7.045\\ngini = 0.375\\nsamples = 4\\nvalue = [3, 1]'),\n",
       " Text(0.25, 0.1, 'gini = 0.0\\nsamples = 3\\nvalue = [3, 0]'),\n",
       " Text(0.5, 0.1, 'gini = 0.0\\nsamples = 1\\nvalue = [0, 1]'),\n",
       " Text(0.75, 0.5, 'sweetness <= 7.045\\ngini = 0.198\\nsamples = 18\\nvalue = [2, 16]'),\n",
       " Text(0.625, 0.3, 'gini = 0.0\\nsamples = 2\\nvalue = [2, 0]'),\n",
       " Text(0.875, 0.3, 'gini = 0.0\\nsamples = 16\\nvalue = [0, 16]'),\n",
       " Text(0.75, 0.7, 'gini = 0.0\\nsamples = 906\\nvalue = [906, 0]')]"
      ]
     },
     "execution_count": 8,
     "metadata": {},
     "output_type": "execute_result"
    },
    {
     "data": {
      "image/png": "[encoded data removed]",
      "text/plain": [
       "<Figure size 640x480 with 1 Axes>"
      ]
     },
     "metadata": {},
     "output_type": "display_data"
    }
   ],
   "source": [
    "# Plot the fitted tree\n",
    "plot_tree(DTC, feature_names=X_train.columns)"
   ]
  },
  {
   "cell_type": "code",
   "execution_count": 9,
   "metadata": {
    "execution": {
     "iopub.execute_input": "2023-12-14T17:07:58.074137Z",
     "iopub.status.busy": "2023-12-14T17:07:58.074018Z",
     "iopub.status.idle": "2023-12-14T17:07:58.161226Z",
     "shell.execute_reply": "2023-12-14T17:07:58.160946Z"
    }
   },
   "outputs": [
    {
     "name": "stderr",
     "output_type": "stream",
     "text": [
      "/nix/store/msas3yllgpa9cv1srn6gxry7ygra9hwm-python3-3.10.9-env/lib/python3.10/site-packages/sklearn/base.py:420: UserWarning: X does not have valid feature names, but DecisionTreeClassifier was fitted with feature names\n",
      "  warnings.warn(\n"
     ]
    },
    {
     "data": {
      "text/plain": [
       "<matplotlib.legend.Legend at 0x7f3df25a27a0>"
      ]
     },
     "execution_count": 9,
     "metadata": {},
     "output_type": "execute_result"
    },
    {
     "data": {
      "image/png": "[encoded data removed]",
      "text/plain": [
       "<Figure size 640x480 with 1 Axes>"
      ]
     },
     "metadata": {},
     "output_type": "display_data"
    }
   ],
   "source": [
    "# Plot the decision boundary\n",
    "ax = plot_decision_regions(X_train.to_numpy(), \n",
    "                           np.ravel(y_train), clf=DTC, legend=0)\n",
    "plt.xlabel('Uniformity')\n",
    "plt.ylabel('Sweetness')\n",
    "\n",
    "\n",
    "# Change the labels to species names\n",
    "handles, labels = ax.get_legend_handles_labels()\n",
    "\n",
    "ax.legend(handles, \n",
    "          ['Arabica', 'Robusta'], \n",
    "           framealpha=0.3, scatterpoints=1)"
   ]
  },
  {
   "cell_type": "code",
   "execution_count": 10,
   "metadata": {
    "execution": {
     "iopub.execute_input": "2023-12-14T17:07:58.162787Z",
     "iopub.status.busy": "2023-12-14T17:07:58.162668Z",
     "iopub.status.idle": "2023-12-14T17:07:58.218233Z",
     "shell.execute_reply": "2023-12-14T17:07:58.217957Z"
    }
   },
   "outputs": [
    {
     "data": {
      "text/plain": [
       "<sklearn.metrics._plot.confusion_matrix.ConfusionMatrixDisplay at 0x7f3de739e260>"
      ]
     },
     "execution_count": 10,
     "metadata": {},
     "output_type": "execute_result"
    },
    {
     "data": {
      "image/png": "[encoded data removed]",
      "text/plain": [
       "<Figure size 640x480 with 2 Axes>"
      ]
     },
     "metadata": {},
     "output_type": "display_data"
    }
   ],
   "source": [
    "# Predict for the test set and plot the confusion matrix\n",
    "y_pred = DTC.predict(X_test)\n",
    "\n",
    "cm = confusion_matrix(y_test,y_pred)\n",
    "ConfusionMatrixDisplay(cm).plot()"
   ]
  },
  {
   "cell_type": "code",
   "execution_count": 11,
   "metadata": {
    "execution": {
     "iopub.execute_input": "2023-12-14T17:07:58.219845Z",
     "iopub.status.busy": "2023-12-14T17:07:58.219751Z",
     "iopub.status.idle": "2023-12-14T17:07:58.222815Z",
     "shell.execute_reply": "2023-12-14T17:07:58.222552Z"
    }
   },
   "outputs": [
    {
     "data": {
      "text/plain": [
       "array([[1., 0.],\n",
       "       [1., 0.],\n",
       "       [1., 0.],\n",
       "       ...,\n",
       "       [1., 0.],\n",
       "       [1., 0.],\n",
       "       [1., 0.]])"
      ]
     },
     "execution_count": 11,
     "metadata": {},
     "output_type": "execute_result"
    }
   ],
   "source": [
    "# Predict the probabilities \n",
    "# (since the tree's leaves are all pure, the values are all 0 and 1)\n",
    "DTC.predict_proba(X_train)"
   ]
  }
 ],
 "metadata": {
  "kernelspec": {
   "display_name": "Python 3 - python3",
   "language": "python3",
   "name": "python3"
  },
  "language_info": {
   "codemirror_mode": {
    "name": "ipython",
    "version": 3
   },
   "file_extension": ".py",
   "mimetype": "text/x-python",
   "name": "python",
   "nbconvert_exporter": "python",
   "pygments_lexer": "ipython3",
   "version": "3.10.9"
  }
 },
 "nbformat": 4,
 "nbformat_minor": 2
}
