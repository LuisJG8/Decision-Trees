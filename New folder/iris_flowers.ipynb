{
  "nbformat": 4,
  "nbformat_minor": 0,
  "metadata": {
    "colab": {
      "provenance": []
    },
    "kernelspec": {
      "name": "python3",
      "display_name": "Python 3"
    },
    "language_info": {
      "name": "python"
    }
  },
  "cells": [
    {
      "cell_type": "code",
      "execution_count": 22,
      "metadata": {
        "colab": {
          "base_uri": "https://localhost:8080/"
        },
        "id": "VQREzKpAVVim",
        "outputId": "5b5b97d8-e3dd-4144-f51d-768212041413"
      },
      "outputs": [
        {
          "output_type": "stream",
          "name": "stdout",
          "text": [
            "Confusion Matrix Entropy: \n",
            "[[13  0  0]\n",
            " [ 0 15  1]\n",
            " [ 0  3  6]]\n",
            "Confusion Matrix Gini Entropy: \n",
            "[[13  0  0]\n",
            " [ 0 15  1]\n",
            " [ 0  3  6]]\n"
          ]
        }
      ],
      "source": [
        "import pandas as pd\n",
        "from sklearn.model_selection import train_test_split\n",
        "from sklearn.tree import DecisionTreeClassifier\n",
        "from sklearn.metrics import confusion_matrix\n",
        "from sklearn.preprocessing import StandardScaler\n",
        "\n",
        "\n",
        "df = pd.read_csv('iris.csv')\n",
        "\n",
        "X = df[['petallength', 'sepallength']]\n",
        "\n",
        "Y = df[['class']]\n",
        "\n",
        "x_train, x_test, y_train, y_test = train_test_split(X, Y, test_size=0.25, random_state=0)\n",
        "\n",
        "scaler = StandardScaler()\n",
        "x_train = scaler.fit_transform(x_train)\n",
        "x_test = scaler.transform(x_test)\n",
        "\n",
        "tree = DecisionTreeClassifier(criterion=\"entropy\", random_state=100, max_depth=3, min_samples_leaf=5)\n",
        "tree.fit(x_train, y_train)\n",
        "\n",
        "y_pred = tree.predict(x_test)\n",
        "\n",
        "confusion_entropy = confusion_matrix(y_test, y_pred)\n",
        "print(f\"Confusion Matrix Entropy: \\n{confusion_entropy}\")\n",
        "\n",
        "\n",
        "#Criterion set to gini\n",
        "gini_tree = DecisionTreeClassifier(criterion=\"gini\", random_state=100, max_depth=3, min_samples_leaf=5)\n",
        "gini_tree.fit(x_train, y_train)\n",
        "\n",
        "y_pred_gini = gini_tree.predict(x_test)\n",
        "\n",
        "confusion_gini = confusion_matrix(y_test, y_pred_gini)\n",
        "print(f\"Confusion Matrix Gini Entropy: \\n{confusion_gini}\")\n"
      ]
    }
  ]
}